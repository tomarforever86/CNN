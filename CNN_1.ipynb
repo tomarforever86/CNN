{
  "nbformat": 4,
  "nbformat_minor": 0,
  "metadata": {
    "colab": {
      "name": "CNN_1.ipynb",
      "provenance": [],
      "collapsed_sections": [],
      "authorship_tag": "ABX9TyOOWwmculzmohbcLdj0Eqru",
      "include_colab_link": true
    },
    "kernelspec": {
      "name": "python3",
      "display_name": "Python 3"
    },
    "language_info": {
      "name": "python"
    }
  },
  "cells": [
    {
      "cell_type": "markdown",
      "metadata": {
        "id": "view-in-github",
        "colab_type": "text"
      },
      "source": [
        "<a href=\"https://colab.research.google.com/github/tomarforever86/CNN/blob/main/CNN_1.ipynb\" target=\"_parent\"><img src=\"https://colab.research.google.com/assets/colab-badge.svg\" alt=\"Open In Colab\"/></a>"
      ]
    },
    {
      "cell_type": "code",
      "metadata": {
        "id": "28ezmjIJ_OEX"
      },
      "source": [
        "import tensorflow as tf\n",
        "from tensorflow.keras import datasets, layers, models\n",
        "import matplotlib.pyplot as plt\n",
        "import numpy as np\n",
        "from sklearn.metrics import confusion_matrix , classification_report"
      ],
      "execution_count": 14,
      "outputs": []
    },
    {
      "cell_type": "code",
      "metadata": {
        "colab": {
          "base_uri": "https://localhost:8080/"
        },
        "id": "ZaUZdZ_X_hzY",
        "outputId": "8136bd29-3c9f-46b5-d29b-57b3d61352b3"
      },
      "source": [
        "(X_train, y_train), (X_test,y_test) = datasets.cifar10.load_data()\n",
        "X_train.shape"
      ],
      "execution_count": 2,
      "outputs": [
        {
          "output_type": "stream",
          "text": [
            "Downloading data from https://www.cs.toronto.edu/~kriz/cifar-10-python.tar.gz\n",
            "170500096/170498071 [==============================] - 2s 0us/step\n",
            "170508288/170498071 [==============================] - 2s 0us/step\n"
          ],
          "name": "stdout"
        },
        {
          "output_type": "execute_result",
          "data": {
            "text/plain": [
              "(50000, 32, 32, 3)"
            ]
          },
          "metadata": {
            "tags": []
          },
          "execution_count": 2
        }
      ]
    },
    {
      "cell_type": "code",
      "metadata": {
        "colab": {
          "base_uri": "https://localhost:8080/"
        },
        "id": "gAW_FEjl_2B8",
        "outputId": "3f8f6567-ab7b-439e-97c8-81af095dec4a"
      },
      "source": [
        "X_test.shape"
      ],
      "execution_count": 3,
      "outputs": [
        {
          "output_type": "execute_result",
          "data": {
            "text/plain": [
              "(10000, 32, 32, 3)"
            ]
          },
          "metadata": {
            "tags": []
          },
          "execution_count": 3
        }
      ]
    },
    {
      "cell_type": "code",
      "metadata": {
        "colab": {
          "base_uri": "https://localhost:8080/"
        },
        "id": "HTHH-kb1ASnV",
        "outputId": "a3a41ac0-2194-4953-e3db-46cc2bdc0bdf"
      },
      "source": [
        "y_train = y_train.reshape(-1,)\n",
        "y_test = y_test.reshape(-1,)\n",
        "y_train[:5]\n",
        "# Converted y_train and y_test to a 1-D array"
      ],
      "execution_count": 5,
      "outputs": [
        {
          "output_type": "execute_result",
          "data": {
            "text/plain": [
              "array([6, 9, 9, 4, 1], dtype=uint8)"
            ]
          },
          "metadata": {
            "tags": []
          },
          "execution_count": 5
        }
      ]
    },
    {
      "cell_type": "code",
      "metadata": {
        "id": "8QQGb1_yAmIw"
      },
      "source": [
        "classes = [\"airplane\",\"automobile\",\"bird\",\"cat\",\"deer\",\"dog\",\"frog\",\"horse\",\"ship\",\"truck\"]"
      ],
      "execution_count": 6,
      "outputs": []
    },
    {
      "cell_type": "code",
      "metadata": {
        "id": "gVd2FiJoA9kv"
      },
      "source": [
        "def plot_sample(X, y, index):\n",
        "    plt.figure(figsize = (15,2))\n",
        "    plt.imshow(X[index])\n",
        "    plt.xlabel(classes[y[index]])"
      ],
      "execution_count": 7,
      "outputs": []
    },
    {
      "cell_type": "code",
      "metadata": {
        "colab": {
          "base_uri": "https://localhost:8080/",
          "height": 173
        },
        "id": "_OgWnjEiBFTk",
        "outputId": "ee3e90f5-829c-4348-c228-f2ce84298467"
      },
      "source": [
        "plot_sample(X_train, y_train, 3)"
      ],
      "execution_count": 11,
      "outputs": [
        {
          "output_type": "display_data",
          "data": {
            "image/png": "[encoded data removed]",
            "text/plain": [
              "<Figure size 1080x144 with 1 Axes>"
            ]
          },
          "metadata": {
            "tags": [],
            "needs_background": "light"
          }
        }
      ]
    },
    {
      "cell_type": "code",
      "metadata": {
        "id": "TKF3IWv8BTI9"
      },
      "source": [
        "# Normalize the images to a number from 0 to 1. Image has 3 channels (R,G,B) and each value in the channel can range from 0 to 255. Hence to normalize in 0-->1 range, we need to divide it by 255\n",
        "X_train = X_train / 255.0\n",
        "X_test = X_test / 255.0"
      ],
      "execution_count": 12,
      "outputs": []
    },
    {
      "cell_type": "code",
      "metadata": {
        "colab": {
          "base_uri": "https://localhost:8080/"
        },
        "id": "-qNLgDzPBiDg",
        "outputId": "6dac9c9b-169a-46b1-db9d-79fe9e4d6a52"
      },
      "source": [
        "# Building simple ANN model\n",
        "\n",
        "ann = models.Sequential([\n",
        "        layers.Flatten(input_shape=(32,32,3)),\n",
        "        layers.Dense(3000, activation='relu'),\n",
        "        layers.Dense(1000, activation='relu'),\n",
        "        layers.Dense(10, activation='softmax')    \n",
        "    ])\n",
        "\n",
        "ann.compile(optimizer='SGD',\n",
        "              loss='sparse_categorical_crossentropy',\n",
        "              metrics=['accuracy'])\n",
        "\n",
        "ann.fit(X_train, y_train, epochs=5)"
      ],
      "execution_count": 13,
      "outputs": [
        {
          "output_type": "stream",
          "text": [
            "Epoch 1/5\n",
            "1563/1563 [==============================] - 99s 63ms/step - loss: 1.8138 - accuracy: 0.3546\n",
            "Epoch 2/5\n",
            "1563/1563 [==============================] - 99s 63ms/step - loss: 1.6244 - accuracy: 0.4251\n",
            "Epoch 3/5\n",
            "1563/1563 [==============================] - 99s 63ms/step - loss: 1.5409 - accuracy: 0.4568\n",
            "Epoch 4/5\n",
            "1563/1563 [==============================] - 99s 63ms/step - loss: 1.4813 - accuracy: 0.4766\n",
            "Epoch 5/5\n",
            "1563/1563 [==============================] - 99s 63ms/step - loss: 1.4339 - accuracy: 0.4934\n"
          ],
          "name": "stdout"
        },
        {
          "output_type": "execute_result",
          "data": {
            "text/plain": [
              "<keras.callbacks.History at 0x7f32b0b30e90>"
            ]
          },
          "metadata": {
            "tags": []
          },
          "execution_count": 13
        }
      ]
    },
    {
      "cell_type": "code",
      "metadata": {
        "colab": {
          "base_uri": "https://localhost:8080/"
        },
        "id": "toSWoF6LEtt-",
        "outputId": "c5a24b21-eb80-40cc-df95-4b3891c22346"
      },
      "source": [
        "y_pred = ann.predict(X_test)\n",
        "y_pred_classes = [np.argmax(element) for element in y_pred]\n",
        "\n",
        "print(\"Classification Report: \\n\", classification_report(y_test, y_pred_classes))"
      ],
      "execution_count": 15,
      "outputs": [
        {
          "output_type": "stream",
          "text": [
            "Classification Report: \n",
            "               precision    recall  f1-score   support\n",
            "\n",
            "           0       0.60      0.50      0.54      1000\n",
            "           1       0.68      0.55      0.61      1000\n",
            "           2       0.41      0.32      0.36      1000\n",
            "           3       0.41      0.21      0.28      1000\n",
            "           4       0.50      0.32      0.39      1000\n",
            "           5       0.43      0.33      0.38      1000\n",
            "           6       0.35      0.81      0.49      1000\n",
            "           7       0.56      0.56      0.56      1000\n",
            "           8       0.54      0.72      0.62      1000\n",
            "           9       0.56      0.56      0.56      1000\n",
            "\n",
            "    accuracy                           0.49     10000\n",
            "   macro avg       0.50      0.49      0.48     10000\n",
            "weighted avg       0.50      0.49      0.48     10000\n",
            "\n"
          ],
          "name": "stdout"
        }
      ]
    },
    {
      "cell_type": "code",
      "metadata": {
        "id": "KUPktAj_Fe5d"
      },
      "source": [
        "#Now building CNN Model\n",
        "\n",
        "\n",
        "cnn = models.Sequential([\n",
        "    layers.Conv2D(filters=32, kernel_size=(3, 3), activation='relu', input_shape=(32, 32, 3)),\n",
        "    layers.MaxPooling2D((2, 2)),\n",
        "    \n",
        "    layers.Conv2D(filters=64, kernel_size=(3, 3), activation='relu'),\n",
        "    layers.MaxPooling2D((2, 2)),\n",
        "    \n",
        "    layers.Flatten(),\n",
        "    layers.Dense(64, activation='relu'),\n",
        "    layers.Dense(10, activation='softmax')\n",
        "])"
      ],
      "execution_count": 16,
      "outputs": []
    },
    {
      "cell_type": "code",
      "metadata": {
        "id": "BWnGqhzkFtDM"
      },
      "source": [
        "cnn.compile(optimizer='adam',\n",
        "              loss='sparse_categorical_crossentropy',\n",
        "              metrics=['accuracy'])"
      ],
      "execution_count": 17,
      "outputs": []
    },
    {
      "cell_type": "code",
      "metadata": {
        "colab": {
          "base_uri": "https://localhost:8080/"
        },
        "id": "9TkOsoScFuoQ",
        "outputId": "336f1c7d-4b97-4d7e-ff2d-de17e7b49167"
      },
      "source": [
        "cnn.fit(X_train, y_train, epochs=5)"
      ],
      "execution_count": 18,
      "outputs": [
        {
          "output_type": "stream",
          "text": [
            "Epoch 1/5\n",
            "1563/1563 [==============================] - 63s 40ms/step - loss: 1.4422 - accuracy: 0.4821\n",
            "Epoch 2/5\n",
            "1563/1563 [==============================] - 62s 39ms/step - loss: 1.0909 - accuracy: 0.6180\n",
            "Epoch 3/5\n",
            "1563/1563 [==============================] - 62s 40ms/step - loss: 0.9599 - accuracy: 0.6664\n",
            "Epoch 4/5\n",
            "1563/1563 [==============================] - 63s 40ms/step - loss: 0.8654 - accuracy: 0.7012\n",
            "Epoch 5/5\n",
            "1563/1563 [==============================] - 63s 40ms/step - loss: 0.7919 - accuracy: 0.7260\n"
          ],
          "name": "stdout"
        },
        {
          "output_type": "execute_result",
          "data": {
            "text/plain": [
              "<keras.callbacks.History at 0x7f32ae11fe10>"
            ]
          },
          "metadata": {
            "tags": []
          },
          "execution_count": 18
        }
      ]
    },
    {
      "cell_type": "code",
      "metadata": {
        "colab": {
          "base_uri": "https://localhost:8080/"
        },
        "id": "MjFioyd0HixE",
        "outputId": "c142a887-fe83-43e9-e8a9-0ee06ab4a6ba"
      },
      "source": [
        "cnn.evaluate(X_test,y_test)"
      ],
      "execution_count": 19,
      "outputs": [
        {
          "output_type": "stream",
          "text": [
            "313/313 [==============================] - 4s 13ms/step - loss: 0.9336 - accuracy: 0.6733\n"
          ],
          "name": "stdout"
        },
        {
          "output_type": "execute_result",
          "data": {
            "text/plain": [
              "[0.9336495995521545, 0.67330002784729]"
            ]
          },
          "metadata": {
            "tags": []
          },
          "execution_count": 19
        }
      ]
    },
    {
      "cell_type": "code",
      "metadata": {
        "colab": {
          "base_uri": "https://localhost:8080/"
        },
        "id": "CbW55jSvHmY1",
        "outputId": "5bd3172b-4e9e-4c2b-8a64-4b7b7aead57e"
      },
      "source": [
        "y_pred = cnn.predict(X_test)\n",
        "y_pred[:5]"
      ],
      "execution_count": 20,
      "outputs": [
        {
          "output_type": "execute_result",
          "data": {
            "text/plain": [
              "array([[1.90266455e-03, 4.28408275e-05, 3.97371966e-03, 5.83398104e-01,\n",
              "        1.09975655e-02, 3.82799357e-01, 1.08406069e-02, 5.37829066e-04,\n",
              "        3.56206368e-03, 1.94523064e-03],\n",
              "       [2.10140496e-02, 4.48795050e-01, 2.13213600e-04, 1.67773804e-04,\n",
              "        2.99464568e-06, 1.14295963e-05, 1.21617484e-06, 2.21454957e-06,\n",
              "        4.06643093e-01, 1.23148985e-01],\n",
              "       [5.74711896e-02, 1.58767551e-01, 2.64151138e-03, 1.81059018e-02,\n",
              "        6.30879635e-03, 2.15670792e-03, 3.66308144e-03, 1.13640388e-03,\n",
              "        5.87138355e-01, 1.62610471e-01],\n",
              "       [7.70680189e-01, 1.25719402e-02, 2.13930514e-02, 2.92866095e-03,\n",
              "        2.65670344e-02, 1.80381212e-05, 9.90101602e-04, 6.88167493e-05,\n",
              "        1.64576173e-01, 2.05953984e-04],\n",
              "       [5.34577839e-06, 2.12257946e-05, 4.31631543e-02, 7.18439445e-02,\n",
              "        8.27347279e-01, 1.39481835e-02, 4.33499776e-02, 1.32166344e-04,\n",
              "        1.26105093e-04, 6.25564135e-05]], dtype=float32)"
            ]
          },
          "metadata": {
            "tags": []
          },
          "execution_count": 20
        }
      ]
    },
    {
      "cell_type": "code",
      "metadata": {
        "colab": {
          "base_uri": "https://localhost:8080/"
        },
        "id": "tZvexhHdHrMs",
        "outputId": "1f4ff7e0-592f-423e-ffaa-9582b774e3be"
      },
      "source": [
        "y_classes = [np.argmax(element) for element in y_pred]\n",
        "y_classes[:5]"
      ],
      "execution_count": 21,
      "outputs": [
        {
          "output_type": "execute_result",
          "data": {
            "text/plain": [
              "[3, 1, 8, 0, 4]"
            ]
          },
          "metadata": {
            "tags": []
          },
          "execution_count": 21
        }
      ]
    },
    {
      "cell_type": "code",
      "metadata": {
        "colab": {
          "base_uri": "https://localhost:8080/"
        },
        "id": "VcfLaYrZStDj",
        "outputId": "197fd695-3df0-494c-bbb2-9cbd3b401d5e"
      },
      "source": [
        "y_test[:5]"
      ],
      "execution_count": 22,
      "outputs": [
        {
          "output_type": "execute_result",
          "data": {
            "text/plain": [
              "array([3, 8, 8, 0, 6], dtype=uint8)"
            ]
          },
          "metadata": {
            "tags": []
          },
          "execution_count": 22
        }
      ]
    },
    {
      "cell_type": "code",
      "metadata": {
        "colab": {
          "base_uri": "https://localhost:8080/",
          "height": 173
        },
        "id": "Hb1Nj2NPSzJB",
        "outputId": "f694c20a-7d22-4291-915c-35b4afa23fca"
      },
      "source": [
        "plot_sample(X_test, y_test,3)"
      ],
      "execution_count": 23,
      "outputs": [
        {
          "output_type": "display_data",
          "data": {
            "image/png": "[encoded data removed]",
            "text/plain": [
              "<Figure size 1080x144 with 1 Axes>"
            ]
          },
          "metadata": {
            "tags": [],
            "needs_background": "light"
          }
        }
      ]
    },
    {
      "cell_type": "code",
      "metadata": {
        "colab": {
          "base_uri": "https://localhost:8080/",
          "height": 35
        },
        "id": "8rtD_IScS4i8",
        "outputId": "3faf5f88-8d02-4c2b-911b-0fbc5922c2d0"
      },
      "source": [
        "classes[y_classes[3]]"
      ],
      "execution_count": 24,
      "outputs": [
        {
          "output_type": "execute_result",
          "data": {
            "application/vnd.google.colaboratory.intrinsic+json": {
              "type": "string"
            },
            "text/plain": [
              "'airplane'"
            ]
          },
          "metadata": {
            "tags": []
          },
          "execution_count": 24
        }
      ]
    }
  ]
}